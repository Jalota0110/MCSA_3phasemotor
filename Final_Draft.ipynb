{
 "cells": [
  {
   "cell_type": "code",
   "execution_count": null,
   "id": "0c0d55d5",
   "metadata": {},
   "outputs": [],
   "source": [
    "import pandas as pd\n",
    "import numpy as np\n",
    "from scipy.signal import savgol_filter\n",
    "from scipy.signal import find_peaks\n",
    "import matplotlib.pyplot as plt"
   ]
  },
  {
   "cell_type": "code",
   "execution_count": null,
   "id": "ed5f12b1",
   "metadata": {},
   "outputs": [],
   "source": [
    "df={}\n",
    "data_master=pd.DataFrame()\n",
    "for i in range(2,319):\n",
    "    x='data'+str(i)+'.txt'\n",
    "    df[i]=pd.read_csv(x,sep=',',header=None)\n",
    "    df[i].drop(columns=[0,4],inplace=True)\n",
    "    data_master=data_master.append(df[i])"
   ]
  },
  {
   "cell_type": "code",
   "execution_count": null,
   "id": "f04a3fbd",
   "metadata": {},
   "outputs": [],
   "source": [
    "def smoth(value):\n",
    "    window_length = 101\n",
    "\n",
    "    poly_order = 4\n",
    "\n",
    "    # Apply the Savitzky-Golay filter\n",
    "    y1 = savgol_filter(value[1], window_length, poly_order)\n",
    "    y2 = savgol_filter(value[2], window_length, poly_order)\n",
    "    y3 = savgol_filter(value[3], window_length, poly_order)\n",
    "    return y1,y2,y3\n"
   ]
  },
  {
   "cell_type": "code",
   "execution_count": null,
   "id": "df4fa4a4",
   "metadata": {},
   "outputs": [],
   "source": [
    "a,b,c={},{},{} #just like 1,2,3 ==> a,b,c are the three phases for smoothen graph.\n",
    "for i in range(2,319):\n",
    "    a[i],b[i],c[i]=smoth(df[i])"
   ]
  },
  {
   "cell_type": "code",
   "execution_count": null,
   "id": "027d7fe7",
   "metadata": {},
   "outputs": [],
   "source": [
    "def minima_maxima(value):\n",
    "    peak_indices, _= find_peaks(value)\n",
    "    minima_indices, _= find_peaks(-value)\n",
    "    return peak_indices,minima_indices"
   ]
  },
  {
   "cell_type": "code",
   "execution_count": null,
   "id": "5fc183c7",
   "metadata": {},
   "outputs": [],
   "source": [
    "maxima={}# from here we have maximas and minimas for all the graphs\n",
    "minima={}\n",
    "for i in range(2,319):\n",
    "    maxima[i],minima[i]=minima_maxima(a[i])"
   ]
  },
  {
   "cell_type": "code",
   "execution_count": null,
   "id": "b82d3c44",
   "metadata": {},
   "outputs": [],
   "source": [
    "def outlier(value):\n",
    "    q1=np.quantile(value,0.25)\n",
    "    q3=np.quantile(value,0.75)\n",
    "    iqr=q3-q1\n",
    "    ul=q3+(1.5*iqr)\n",
    "    ll=q1-(1.5*iqr)\n",
    "    return ul,ll"
   ]
  },
  {
   "cell_type": "code",
   "execution_count": null,
   "id": "e373feba",
   "metadata": {},
   "outputs": [],
   "source": [
    "uplimit={}\n",
    "lowlimit={}\n",
    "for i in range(2,319):\n",
    "    uplimit[i],lowlimit[i]=outlier(a[i])\n",
    "     #checking outliers for all the files\n",
    "    if (a[i]>uplimit[i]).any() or (a[i]<lowlimit[i]).any():\n",
    "        print(i,'.txt file has outliers')"
   ]
  },
  {
   "cell_type": "code",
   "execution_count": null,
   "id": "d15dd464",
   "metadata": {},
   "outputs": [],
   "source": [
    "def phase_defected_peaks(value):\n",
    "    u_peak,l_peak=outlier(value)\n",
    "    x=np.zeros(len(value))\n",
    "    x[np.where(value<l_peak)]=1\n",
    "    x[np.where(value>u_peak)]=1\n",
    "    df_peak=pd.DataFrame(data=[value,x]).T\n",
    "    df_peak.columns=['Phase_Peak','Fault']\n",
    "    return df_peak\n",
    "\n",
    "\n",
    "def phase_defected_crests(value):\n",
    "    \n",
    "    u_crest,l_crest=outlier(value)\n",
    "    y=np.zeros(len(value))\n",
    "    y[np.where(value>u_crest)]=1\n",
    "    y[np.where(value>u_crest)]=1\n",
    "    df_crest=pd.DataFrame(data=[value,y]).T\n",
    "    df_crest.columns=['Phase_Crest','Fault']\n",
    "    \n",
    "    return df_crest"
   ]
  },
  {
   "cell_type": "code",
   "execution_count": null,
   "id": "fa826070",
   "metadata": {},
   "outputs": [],
   "source": [
    "d_peak={}\n",
    "d_crest={}\n",
    "d_peak_master=pd.DataFrame()\n",
    "d_crest_master=pd.DataFrame()\n",
    "for i in range(2,319):\n",
    "    d_peak[i]=phase_defected_peaks(a[i][maxima[i]])\n",
    "    d_crest[i]=phase_defected_crests(a[i][minima[i]])\n",
    "    d_peak_master=d_peak_master.append(d_peak[i])\n",
    "    d_crest_master=d_crest_master.append(d_crest[i])"
   ]
  },
  {
   "cell_type": "code",
   "execution_count": null,
   "id": "85d7555a",
   "metadata": {},
   "outputs": [],
   "source": []
  },
  {
   "cell_type": "code",
   "execution_count": null,
   "id": "4297e315",
   "metadata": {},
   "outputs": [],
   "source": []
  }
 ],
 "metadata": {
  "kernelspec": {
   "display_name": "Python 3 (ipykernel)",
   "language": "python",
   "name": "python3"
  },
  "language_info": {
   "codemirror_mode": {
    "name": "ipython",
    "version": 3
   },
   "file_extension": ".py",
   "mimetype": "text/x-python",
   "name": "python",
   "nbconvert_exporter": "python",
   "pygments_lexer": "ipython3",
   "version": "3.9.7"
  }
 },
 "nbformat": 4,
 "nbformat_minor": 5
}
